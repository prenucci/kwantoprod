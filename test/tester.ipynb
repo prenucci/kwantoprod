{
 "cells": [
  {
   "cell_type": "code",
   "execution_count": 1,
   "metadata": {},
   "outputs": [],
   "source": [
    "import pandas as pd\n",
    "import ib_insync as ib \n",
    "import nest_asyncio\n",
    "from datetime import datetime\n",
    "nest_asyncio.apply()"
   ]
  },
  {
   "cell_type": "code",
   "execution_count": 2,
   "metadata": {},
   "outputs": [],
   "source": [
    "### Fonction qui te donne l'ensemble de tes pos de IBKR ?\n",
    "### comment on trade en IBKR ? \n",
    "### Mettre en prod le simulated paper trading pour Crude Oil \n",
    "\n",
    "### -> tester nos deux backtest via crude oil (vs QuantConnect)\n",
    "### -> "
   ]
  },
  {
   "cell_type": "code",
   "execution_count": 4,
   "metadata": {},
   "outputs": [
    {
     "data": {
      "text/plain": [
       "2025-05-01   -1.009409\n",
       "2025-05-02   -0.994476\n",
       "2025-05-03   -1.027478\n",
       "2025-05-04   -1.027478\n",
       "2025-05-05   -1.027478\n",
       "2025-05-06   -1.106748\n",
       "2025-05-07   -0.917563\n",
       "2025-05-08   -0.910035\n",
       "2025-05-09   -0.679580\n",
       "2025-05-10   -0.416445\n",
       "2025-05-11   -0.416445\n",
       "2025-05-12   -0.416445\n",
       "2025-05-13   -0.090707\n",
       "2025-05-14    0.388898\n",
       "2025-05-15    0.622489\n",
       "2025-05-16    0.568912\n",
       "2025-05-17    0.676373\n",
       "2025-05-18    0.676373\n",
       "2025-05-19    0.676373\n",
       "2025-05-20    0.673181\n",
       "2025-05-21    0.649722\n",
       "2025-05-22    0.513822\n",
       "2025-05-23    0.341878\n",
       "2025-05-24    0.309462\n",
       "2025-05-25    0.309462\n",
       "2025-05-26    0.309462\n",
       "2025-05-27    0.309462\n",
       "2025-05-28    0.174282\n",
       "2025-05-29    0.281272\n",
       "2025-05-30    0.006802\n",
       "2025-05-31   -0.277644\n",
       "2025-06-01   -0.277644\n",
       "2025-06-02   -0.389476\n",
       "2025-06-03    0.159610\n",
       "2025-06-04    0.588640\n",
       "2025-06-05    0.603489\n",
       "2025-06-06    0.730918\n",
       "2025-06-07    1.124836\n",
       "2025-06-08    1.124836\n",
       "2025-06-09    1.124836\n",
       "dtype: float64"
      ]
     },
     "execution_count": 4,
     "metadata": {},
     "output_type": "execute_result"
    }
   ],
   "source": [
    "from TrendFollowCrudeOil import BaseSignal, CrudeOilTFSignal\n",
    "\n",
    "def SimulateSignal(\n",
    "        signal: BaseSignal, \n",
    "        date_range: list[str | datetime | pd.Timestamp] | pd.DatetimeIndex,\n",
    "        ib_client: ib.IB\n",
    "    ) -> pd.Series:\n",
    "\n",
    "    assert ib_client.isConnected(), 'Failed to connect to IB'    \n",
    "    return pd.Series({\n",
    "        date: signal.get_value(date) \n",
    "        for date in date_range\n",
    "    })\n",
    "\n",
    "with ib.IB() as ib_client:\n",
    "    ib_client.connect('127.0.0.1', 7497, clientId=1)\n",
    "    assert ib_client.isConnected(), 'Failed to connect to IB'\n",
    "    signal = CrudeOilTFSignal(ib_client)\n",
    "    values = SimulateSignal(\n",
    "        signal, \n",
    "        date_range=pd.date_range(start='2025-05-01', end=datetime.today()),\n",
    "        ib_client=ib_client\n",
    "    )\n",
    "\n",
    "values"
   ]
  },
  {
   "cell_type": "code",
   "execution_count": null,
   "metadata": {},
   "outputs": [
    {
     "name": "stdout",
     "output_type": "stream",
     "text": [
      "Placing order for 131 of Contract(secType='FUT', conId=304037495, symbol='CL', lastTradeDateOrContractMonth='20250922', multiplier='1000', exchange='NYMEX', currency='USD', localSymbol='CLV5', tradingClass='CL')\n"
     ]
    },
    {
     "ename": "TimeoutError",
     "evalue": "Timeout 50 while waiting for fill of:\n Trade(contract=Contract(secType='FUT', conId=304037495, symbol='CL', lastTradeDateOrContractMonth='20250922', multiplier='1000', exchange='NYMEX', currency='USD', localSymbol='CLV5', tradingClass='CL'), order=MarketOrder(orderId=40, clientId=1, action='BUY', totalQuantity=131), orderStatus=OrderStatus(orderId=40, status='PendingSubmit', filled=0.0, remaining=0.0, avgFillPrice=0.0, permId=0, parentId=0, lastFillPrice=0.0, clientId=0, whyHeld='', mktCapPrice=0.0), fills=[], log=[TradeLogEntry(time=datetime.datetime(2025, 6, 9, 19, 22, 28, 237666, tzinfo=datetime.timezone.utc), status='PendingSubmit', message='', errorCode=0)], advancedError='')",
     "output_type": "error",
     "traceback": [
      "\u001b[0;31m---------------------------------------------------------------------------\u001b[0m",
      "\u001b[0;31mTimeoutError\u001b[0m                              Traceback (most recent call last)",
      "Cell \u001b[0;32mIn[6], line 62\u001b[0m\n\u001b[1;32m     60\u001b[0m     \u001b[38;5;28;01massert\u001b[39;00m ib_client\u001b[38;5;241m.\u001b[39misConnected(), \u001b[38;5;124m'\u001b[39m\u001b[38;5;124mFailed to connect to IB\u001b[39m\u001b[38;5;124m'\u001b[39m\n\u001b[1;32m     61\u001b[0m     signal \u001b[38;5;241m=\u001b[39m CrudeOilTFSignal(ib_client)\n\u001b[0;32m---> 62\u001b[0m     value \u001b[38;5;241m=\u001b[39m \u001b[43mExecuteSignal\u001b[49m\u001b[43m(\u001b[49m\u001b[43msignal\u001b[49m\u001b[43m,\u001b[49m\u001b[43m \u001b[49m\u001b[43mib_client\u001b[49m\u001b[43m,\u001b[49m\u001b[43m \u001b[49m\u001b[43mmultiplier\u001b[49m\u001b[38;5;241;43m=\u001b[39;49m\u001b[38;5;241;43m100\u001b[39;49m\u001b[43m)\u001b[49m\n\u001b[1;32m     63\u001b[0m value \n",
      "Cell \u001b[0;32mIn[6], line 44\u001b[0m, in \u001b[0;36mExecuteSignal\u001b[0;34m(signal, ib_client, multiplier)\u001b[0m\n\u001b[1;32m     38\u001b[0m target_position \u001b[38;5;241m=\u001b[39m signal\u001b[38;5;241m.\u001b[39mget_value(today) \u001b[38;5;241m*\u001b[39m multiplier\n\u001b[1;32m     40\u001b[0m current_position \u001b[38;5;241m=\u001b[39m get_current_position_on_contract(\n\u001b[1;32m     41\u001b[0m     ib_client\u001b[38;5;241m.\u001b[39mpositions(), signal\u001b[38;5;241m.\u001b[39mcontract\n\u001b[1;32m     42\u001b[0m )\n\u001b[0;32m---> 44\u001b[0m \u001b[43mplace_order\u001b[49m\u001b[43m(\u001b[49m\n\u001b[1;32m     45\u001b[0m \u001b[43m    \u001b[49m\u001b[43mqtity_to_buy\u001b[49m\u001b[43m \u001b[49m\u001b[38;5;241;43m=\u001b[39;49m\u001b[43m \u001b[49m\u001b[38;5;28;43mint\u001b[39;49m\u001b[43m(\u001b[49m\u001b[43mtarget_position\u001b[49m\u001b[43m \u001b[49m\u001b[38;5;241;43m-\u001b[39;49m\u001b[43m \u001b[49m\u001b[43mcurrent_position\u001b[49m\u001b[43m)\u001b[49m\u001b[43m,\u001b[49m\n\u001b[1;32m     46\u001b[0m \u001b[43m    \u001b[49m\u001b[43mcontract\u001b[49m\u001b[43m \u001b[49m\u001b[38;5;241;43m=\u001b[39;49m\u001b[43m \u001b[49m\u001b[43msignal\u001b[49m\u001b[38;5;241;43m.\u001b[39;49m\u001b[43mcontract\u001b[49m\n\u001b[1;32m     47\u001b[0m \u001b[43m\u001b[49m\u001b[43m)\u001b[49m\n\u001b[1;32m     49\u001b[0m final_position \u001b[38;5;241m=\u001b[39m get_current_position_on_contract(\n\u001b[1;32m     50\u001b[0m     ib_client\u001b[38;5;241m.\u001b[39mpositions(), signal\u001b[38;5;241m.\u001b[39mcontract\n\u001b[1;32m     51\u001b[0m )\n\u001b[1;32m     52\u001b[0m \u001b[38;5;28;01massert\u001b[39;00m (\n\u001b[1;32m     53\u001b[0m     final_position \u001b[38;5;241m==\u001b[39m \u001b[38;5;28mint\u001b[39m(target_position)\n\u001b[1;32m     54\u001b[0m ), \u001b[38;5;124mf\u001b[39m\u001b[38;5;124m'\u001b[39m\u001b[38;5;124mPosition not updated correctly. Expected: \u001b[39m\u001b[38;5;132;01m{\u001b[39;00mtarget_position\u001b[38;5;132;01m}\u001b[39;00m\u001b[38;5;124m, Got: \u001b[39m\u001b[38;5;132;01m{\u001b[39;00mfinal_position\u001b[38;5;132;01m}\u001b[39;00m\u001b[38;5;124m'\u001b[39m\n",
      "Cell \u001b[0;32mIn[6], line 30\u001b[0m, in \u001b[0;36mplace_order\u001b[0;34m(qtity_to_buy, contract, timeout)\u001b[0m\n\u001b[1;32m     28\u001b[0m \u001b[38;5;28;01mwhile\u001b[39;00m \u001b[38;5;129;01mnot\u001b[39;00m trade\u001b[38;5;241m.\u001b[39misDone() \u001b[38;5;129;01mand\u001b[39;00m (time\u001b[38;5;241m.\u001b[39mtime() \u001b[38;5;241m-\u001b[39m start_time) \u001b[38;5;241m<\u001b[39m\u001b[38;5;241m=\u001b[39m timeout:\n\u001b[1;32m     29\u001b[0m     time\u001b[38;5;241m.\u001b[39msleep(\u001b[38;5;241m0.1\u001b[39m)\n\u001b[0;32m---> 30\u001b[0m \u001b[38;5;28;01mraise\u001b[39;00m \u001b[38;5;167;01mTimeoutError\u001b[39;00m(\n\u001b[1;32m     31\u001b[0m         \u001b[38;5;124mf\u001b[39m\u001b[38;5;124m\"\u001b[39m\u001b[38;5;124mTimeout \u001b[39m\u001b[38;5;132;01m{\u001b[39;00mtimeout\u001b[38;5;132;01m}\u001b[39;00m\u001b[38;5;124m while waiting for fill of:\u001b[39m\u001b[38;5;130;01m\\n\u001b[39;00m\u001b[38;5;124m \u001b[39m\u001b[38;5;132;01m{\u001b[39;00mtrade\u001b[38;5;132;01m}\u001b[39;00m\u001b[38;5;124m\"\u001b[39m\n\u001b[1;32m     32\u001b[0m     )\n",
      "\u001b[0;31mTimeoutError\u001b[0m: Timeout 50 while waiting for fill of:\n Trade(contract=Contract(secType='FUT', conId=304037495, symbol='CL', lastTradeDateOrContractMonth='20250922', multiplier='1000', exchange='NYMEX', currency='USD', localSymbol='CLV5', tradingClass='CL'), order=MarketOrder(orderId=40, clientId=1, action='BUY', totalQuantity=131), orderStatus=OrderStatus(orderId=40, status='PendingSubmit', filled=0.0, remaining=0.0, avgFillPrice=0.0, permId=0, parentId=0, lastFillPrice=0.0, clientId=0, whyHeld='', mktCapPrice=0.0), fills=[], log=[TradeLogEntry(time=datetime.datetime(2025, 6, 9, 19, 22, 28, 237666, tzinfo=datetime.timezone.utc), status='PendingSubmit', message='', errorCode=0)], advancedError='')"
     ]
    }
   ],
   "source": [
    "from TrendFollowCrudeOil import BaseSignal\n",
    "import time\n",
    "\n",
    "def get_current_position_on_contract(\n",
    "        all_positions: list[ib.Position], contract: ib.Future\n",
    "    ) -> int:\n",
    "\n",
    "    for pos in all_positions:\n",
    "        if (\n",
    "            pos.contract.symbol == contract.symbol \n",
    "            and \n",
    "            pos.contract.lastTradeDateOrContractMonth == contract.lastTradeDateOrContractMonth\n",
    "            ):\n",
    "            return pos.position\n",
    "    return 0\n",
    "\n",
    "def place_order(qtity_to_buy: int, contract: ib.Future, timeout:float = 15) -> None:\n",
    "\n",
    "    ### UNTESTED. I DON'T THINK IT WORKS.\n",
    "    \n",
    "    if qtity_to_buy == 0:\n",
    "        return\n",
    "    elif qtity_to_buy > 0:\n",
    "        order = ib.MarketOrder('BUY', qtity_to_buy)\n",
    "    elif qtity_to_buy < 0:\n",
    "        order = ib.MarketOrder('SELL', -qtity_to_buy)\n",
    "    print(f\"Placing order for {qtity_to_buy} of {contract}\")\n",
    "    trade = ib_client.placeOrder(contract, order)\n",
    "\n",
    "    start_time = time.time()\n",
    "    while not trade.isDone() and (time.time() - start_time) <= timeout:\n",
    "        time.sleep(0.1)\n",
    "    raise TimeoutError(\n",
    "            f\"Timeout {timeout} while waiting for fill of:\\n {trade}\"\n",
    "        )\n",
    "\n",
    "def ExecuteSignal(signal: BaseSignal, ib_client: ib.IB, multiplier: int = 1) -> None:\n",
    "        assert ib_client.isConnected(), 'Failed to connect to IB'\n",
    "\n",
    "        today = pd.Timestamp.now()\n",
    "        target_position = signal.get_value(today) * multiplier\n",
    "\n",
    "        current_position = get_current_position_on_contract(\n",
    "            ib_client.positions(), signal.contract\n",
    "        )\n",
    "\n",
    "        place_order(\n",
    "            qtity_to_buy = int(target_position - current_position),\n",
    "            contract = signal.contract\n",
    "        )\n",
    "\n",
    "        final_position = get_current_position_on_contract(\n",
    "            ib_client.positions(), signal.contract\n",
    "        )\n",
    "        assert (\n",
    "            final_position == int(target_position)\n",
    "        ), f'Position not updated correctly. Expected: {target_position}, Got: {final_position}'\n",
    "\n",
    "        return final_position\n",
    "\n",
    "with ib.IB() as ib_client:\n",
    "    ib_client.connect('127.0.0.1', 7497, clientId=1)\n",
    "    assert ib_client.isConnected(), 'Failed to connect to IB'\n",
    "    signal = CrudeOilTFSignal(ib_client)\n",
    "    value = ExecuteSignal(signal, ib_client, multiplier=100)\n",
    "\n",
    "value "
   ]
  }
 ],
 "metadata": {
  "kernelspec": {
   "display_name": "Python 3",
   "language": "python",
   "name": "python3"
  },
  "language_info": {
   "codemirror_mode": {
    "name": "ipython",
    "version": 3
   },
   "file_extension": ".py",
   "mimetype": "text/x-python",
   "name": "python",
   "nbconvert_exporter": "python",
   "pygments_lexer": "ipython3",
   "version": "3.11.7"
  }
 },
 "nbformat": 4,
 "nbformat_minor": 2
}
